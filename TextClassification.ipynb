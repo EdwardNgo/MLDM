{
  "nbformat": 4,
  "nbformat_minor": 0,
  "metadata": {
    "colab": {
      "name": "Copy of TextClassification.ipynb",
      "provenance": []
    },
    "kernelspec": {
      "name": "python3",
      "display_name": "Python 3"
    },
    "language_info": {
      "name": "python"
    },
    "accelerator": "GPU"
  },
  "cells": [
    {
      "cell_type": "code",
      "metadata": {
        "id": "MeRiwbwBOqeF"
      },
      "source": [
        "import pickle"
      ],
      "execution_count": null,
      "outputs": []
    },
    {
      "cell_type": "code",
      "metadata": {
        "colab": {
          "base_uri": "https://localhost:8080/"
        },
        "id": "bgNpA_A-c0JA",
        "outputId": "8110ed40-a114-4d65-9557-b0221383655f"
      },
      "source": [
        "from google.colab import drive\n",
        "drive.mount('/content/drive')"
      ],
      "execution_count": null,
      "outputs": [
        {
          "output_type": "stream",
          "text": [
            "Mounted at /content/drive\n"
          ],
          "name": "stdout"
        }
      ]
    },
    {
      "cell_type": "code",
      "metadata": {
        "colab": {
          "base_uri": "https://localhost:8080/"
        },
        "id": "2fM27I9_Vdb0",
        "outputId": "c03318f1-f830-4473-9265-1808ba13404c"
      },
      "source": [
        "%cd drive/MyDrive"
      ],
      "execution_count": null,
      "outputs": [
        {
          "output_type": "stream",
          "text": [
            "/content/drive/MyDrive\n"
          ],
          "name": "stdout"
        }
      ]
    },
    {
      "cell_type": "code",
      "metadata": {
        "id": "xlLCHwSHOXmf"
      },
      "source": [
        "X_train = pickle.load(open('processed_data/X_train.pkl','rb'))\n",
        "Y_train = pickle.load(open('processed_data/Y_train.pkl','rb'))\n",
        "Y_test = pickle.load(open('processed_data/Y_test.pkl','rb'))\n",
        "X_test = pickle.load(open('processed_data/X_test.pkl','rb'))"
      ],
      "execution_count": null,
      "outputs": []
    },
    {
      "cell_type": "code",
      "metadata": {
        "id": "q2Dhqrroie3E"
      },
      "source": [
        "dataset_X = X_train + X_test\n",
        "dataset_Y = Y_train + Y_test"
      ],
      "execution_count": null,
      "outputs": []
    },
    {
      "cell_type": "code",
      "metadata": {
        "id": "FMFefSJvij_t"
      },
      "source": [
        "from sklearn.model_selection import train_test_split\n",
        "X_train,X_test,Y_train,Y_test = train_test_split(dataset_X,dataset_Y,test_size = 0.15,random_state = 42)"
      ],
      "execution_count": null,
      "outputs": []
    },
    {
      "cell_type": "code",
      "metadata": {
        "id": "xKVDRyo7WkaH"
      },
      "source": [
        "from sklearn.feature_extraction.text import TfidfVectorizer, CountVectorizer\n",
        "tfidf_vect = TfidfVectorizer(analyzer='word', max_features=30000)#ban đầu là 30000 chiều \n",
        "tfidf_vect.fit(X_train) # learn vocabulary and idf from training set\n",
        "X_data_tfidf =  tfidf_vect.transform(X_train)\n",
        "X_test_tfidf =  tfidf_vect.transform(X_test)\n",
        "from sklearn.decomposition import TruncatedSVD\n",
        "#giam so chieu du lieu 30000->300 \n",
        "svd = TruncatedSVD(n_components=300, random_state=42)\n",
        "svd.fit(X_data_tfidf)\n",
        "\n",
        "\n",
        "X_data_tfidf_svd = svd.transform(X_data_tfidf)\n",
        "X_test_tfidf_svd = svd.transform(X_test_tfidf)"
      ],
      "execution_count": null,
      "outputs": []
    },
    {
      "cell_type": "code",
      "metadata": {
        "id": "ICfbWHSlXjv-"
      },
      "source": [
        "from sklearn.preprocessing import LabelEncoder\n",
        "from keras.utils import np_utils"
      ],
      "execution_count": null,
      "outputs": []
    },
    {
      "cell_type": "code",
      "metadata": {
        "id": "8ozDbTVRXgkg"
      },
      "source": [
        "\n",
        "encoder = LabelEncoder()\n",
        "encoder.fit(Y_train)\n",
        "Y_train_ = encoder.transform(Y_train)\n",
        "Y_test_ = encoder.transform(Y_test)\n",
        "\n",
        "# convert integers to dummy variables (i.e. one hot encoded)\n",
        "Y_test_ = np_utils.to_categorical(Y_test_)\n",
        "Y_train_ = np_utils.to_categorical(Y_train_)"
      ],
      "execution_count": null,
      "outputs": []
    },
    {
      "cell_type": "code",
      "metadata": {
        "id": "8Kp_yYyMmEb_"
      },
      "source": [
        "with open(\"encoder.pkl\",\"rb\") as f:\n",
        "  encoder = pickle.load(f)"
      ],
      "execution_count": null,
      "outputs": []
    },
    {
      "cell_type": "code",
      "metadata": {
        "colab": {
          "base_uri": "https://localhost:8080/"
        },
        "id": "0i4Av_YUWn9N",
        "outputId": "865942d9-772c-40d4-c67b-ce2951599627"
      },
      "source": [
        "print(X_data_tfidf_svd.shape)\n",
        "print(Y_train[0])"
      ],
      "execution_count": null,
      "outputs": [
        {
          "output_type": "stream",
          "text": [
            "(71512, 300)\n",
            "Chinh_tri_Xa_hoi\n"
          ],
          "name": "stdout"
        }
      ]
    },
    {
      "cell_type": "code",
      "metadata": {
        "id": "wgUYvpngXszK"
      },
      "source": [
        ""
      ],
      "execution_count": null,
      "outputs": []
    },
    {
      "cell_type": "code",
      "metadata": {
        "id": "CY1HeqNCVmGy"
      },
      "source": [
        "import keras"
      ],
      "execution_count": null,
      "outputs": []
    },
    {
      "cell_type": "code",
      "metadata": {
        "id": "BuN6TS37VuYf"
      },
      "source": [
        "\n",
        "from os import listdir\n",
        "from numpy import array\n",
        "from numpy import asarray\n",
        "from numpy import zeros\n",
        "from keras.optimizers import SGD\n",
        "\n",
        "from keras.models import Sequential\n",
        "from keras.layers import Dense\n",
        "from keras.layers import Flatten\n",
        "from keras.layers import Embedding\n",
        "from keras.layers import Softmax\n",
        "from keras.layers.convolutional import Conv1D\n",
        "from keras.layers.convolutional import MaxPooling1D"
      ],
      "execution_count": null,
      "outputs": []
    },
    {
      "cell_type": "code",
      "metadata": {
        "id": "_lONPu7GPUqr"
      },
      "source": [
        "import matplotlib.pyplot as plt\n"
      ],
      "execution_count": null,
      "outputs": []
    },
    {
      "cell_type": "code",
      "metadata": {
        "id": "TKBtmU6QQUVG"
      },
      "source": [
        "model_checkpoint_callback = keras.callbacks.ModelCheckpoint(\n",
        "    filepath=F\"/content/drive/My Drive/checkpoint_textclassification\",\n",
        "    save_weights_only=True,\n",
        "    monitor='val_accuracy',\n",
        "    mode='max',\n",
        "    save_best_only=True)\n",
        "\n",
        "early_stop = keras.callbacks.EarlyStopping(monitor='val_accuracy', patience=3,min_delta=0.001)"
      ],
      "execution_count": null,
      "outputs": []
    },
    {
      "cell_type": "code",
      "metadata": {
        "colab": {
          "base_uri": "https://localhost:8080/"
        },
        "id": "87D3CxlXV2KX",
        "outputId": "37a86023-bb43-4e66-e58b-171999cd7ab3"
      },
      "source": [
        "  model = Sequential()\n",
        "\n",
        "  model.add(Dense(512, activation='relu', input_shape=(300,)))\n",
        "  model.add(Dense(32, activation='relu'))\n",
        "  model.add(Dense(10, activation='softmax'))\n",
        "\n",
        "  model.summary()\n",
        "  model.compile(loss='categorical_crossentropy',\n",
        "              optimizer=SGD(), \n",
        "              metrics=['accuracy'])\n",
        "  H = model.fit(X_data_tfidf_svd, Y_train_,\n",
        "          batch_size=64,\n",
        "          epochs=1000,\n",
        "          verbose=1,\n",
        "          callbacks = [model_checkpoint_callback,early_stop],\n",
        "          validation_data=(X_test_tfidf_svd, Y_test_))\n",
        "  "
      ],
      "execution_count": null,
      "outputs": [
        {
          "output_type": "stream",
          "text": [
            "Model: \"sequential\"\n",
            "_________________________________________________________________\n",
            "Layer (type)                 Output Shape              Param #   \n",
            "=================================================================\n",
            "dense (Dense)                (None, 512)               154112    \n",
            "_________________________________________________________________\n",
            "dense_1 (Dense)              (None, 32)                16416     \n",
            "_________________________________________________________________\n",
            "dense_2 (Dense)              (None, 10)                330       \n",
            "=================================================================\n",
            "Total params: 170,858\n",
            "Trainable params: 170,858\n",
            "Non-trainable params: 0\n",
            "_________________________________________________________________\n",
            "Epoch 1/1000\n",
            "1118/1118 [==============================] - 6s 3ms/step - loss: 2.2534 - accuracy: 0.1735 - val_loss: 2.1580 - val_accuracy: 0.2637\n",
            "Epoch 2/1000\n",
            "1118/1118 [==============================] - 3s 3ms/step - loss: 2.1096 - accuracy: 0.2920 - val_loss: 1.9337 - val_accuracy: 0.3937\n",
            "Epoch 3/1000\n",
            "1118/1118 [==============================] - 3s 3ms/step - loss: 1.8435 - accuracy: 0.4572 - val_loss: 1.5756 - val_accuracy: 0.5711\n",
            "Epoch 4/1000\n",
            "1118/1118 [==============================] - 3s 2ms/step - loss: 1.4683 - accuracy: 0.6311 - val_loss: 1.1744 - val_accuracy: 0.7152\n",
            "Epoch 5/1000\n",
            "1118/1118 [==============================] - 3s 3ms/step - loss: 1.0838 - accuracy: 0.7419 - val_loss: 0.8552 - val_accuracy: 0.7790\n",
            "Epoch 6/1000\n",
            "1118/1118 [==============================] - 3s 3ms/step - loss: 0.7910 - accuracy: 0.8032 - val_loss: 0.6617 - val_accuracy: 0.8301\n",
            "Epoch 7/1000\n",
            "1118/1118 [==============================] - 3s 3ms/step - loss: 0.6222 - accuracy: 0.8367 - val_loss: 0.5532 - val_accuracy: 0.8502\n",
            "Epoch 8/1000\n",
            "1118/1118 [==============================] - 3s 2ms/step - loss: 0.5242 - accuracy: 0.8586 - val_loss: 0.4847 - val_accuracy: 0.8638\n",
            "Epoch 9/1000\n",
            "1118/1118 [==============================] - 3s 2ms/step - loss: 0.4665 - accuracy: 0.8706 - val_loss: 0.4386 - val_accuracy: 0.8745\n",
            "Epoch 10/1000\n",
            "1118/1118 [==============================] - 3s 2ms/step - loss: 0.4289 - accuracy: 0.8762 - val_loss: 0.4059 - val_accuracy: 0.8811\n",
            "Epoch 11/1000\n",
            "1118/1118 [==============================] - 3s 2ms/step - loss: 0.4001 - accuracy: 0.8830 - val_loss: 0.3809 - val_accuracy: 0.8856\n",
            "Epoch 12/1000\n",
            "1118/1118 [==============================] - 3s 2ms/step - loss: 0.3770 - accuracy: 0.8894 - val_loss: 0.3678 - val_accuracy: 0.8845\n",
            "Epoch 13/1000\n",
            "1118/1118 [==============================] - 3s 2ms/step - loss: 0.3646 - accuracy: 0.8888 - val_loss: 0.3477 - val_accuracy: 0.8932\n",
            "Epoch 14/1000\n",
            "1118/1118 [==============================] - 3s 2ms/step - loss: 0.3490 - accuracy: 0.8944 - val_loss: 0.3352 - val_accuracy: 0.8952\n",
            "Epoch 15/1000\n",
            "1118/1118 [==============================] - 3s 2ms/step - loss: 0.3352 - accuracy: 0.8978 - val_loss: 0.3276 - val_accuracy: 0.8971\n",
            "Epoch 16/1000\n",
            "1118/1118 [==============================] - 3s 2ms/step - loss: 0.3241 - accuracy: 0.9007 - val_loss: 0.3198 - val_accuracy: 0.8975\n",
            "Epoch 17/1000\n",
            "1118/1118 [==============================] - 3s 2ms/step - loss: 0.3194 - accuracy: 0.9009 - val_loss: 0.3118 - val_accuracy: 0.9004\n",
            "Epoch 18/1000\n",
            "1118/1118 [==============================] - 3s 2ms/step - loss: 0.3143 - accuracy: 0.9012 - val_loss: 0.3077 - val_accuracy: 0.9015\n",
            "Epoch 19/1000\n",
            "1118/1118 [==============================] - 3s 3ms/step - loss: 0.3082 - accuracy: 0.9037 - val_loss: 0.2998 - val_accuracy: 0.9037\n",
            "Epoch 20/1000\n",
            "1118/1118 [==============================] - 3s 2ms/step - loss: 0.2965 - accuracy: 0.9070 - val_loss: 0.2953 - val_accuracy: 0.9053\n",
            "Epoch 21/1000\n",
            "1118/1118 [==============================] - 3s 2ms/step - loss: 0.3013 - accuracy: 0.9042 - val_loss: 0.2918 - val_accuracy: 0.9065\n",
            "Epoch 22/1000\n",
            "1118/1118 [==============================] - 3s 2ms/step - loss: 0.2985 - accuracy: 0.9050 - val_loss: 0.2888 - val_accuracy: 0.9071\n",
            "Epoch 23/1000\n",
            "1118/1118 [==============================] - 3s 2ms/step - loss: 0.2929 - accuracy: 0.9078 - val_loss: 0.2859 - val_accuracy: 0.9086\n",
            "Epoch 24/1000\n",
            "1118/1118 [==============================] - 3s 3ms/step - loss: 0.2862 - accuracy: 0.9096 - val_loss: 0.2834 - val_accuracy: 0.9082\n",
            "Epoch 25/1000\n",
            "1118/1118 [==============================] - 3s 2ms/step - loss: 0.2830 - accuracy: 0.9085 - val_loss: 0.2805 - val_accuracy: 0.9094\n",
            "Epoch 26/1000\n",
            "1118/1118 [==============================] - 3s 3ms/step - loss: 0.2843 - accuracy: 0.9076 - val_loss: 0.2772 - val_accuracy: 0.9109\n",
            "Epoch 27/1000\n",
            "1118/1118 [==============================] - 3s 3ms/step - loss: 0.2784 - accuracy: 0.9103 - val_loss: 0.2769 - val_accuracy: 0.9099\n",
            "Epoch 28/1000\n",
            "1118/1118 [==============================] - 3s 2ms/step - loss: 0.2733 - accuracy: 0.9115 - val_loss: 0.2747 - val_accuracy: 0.9102\n",
            "Epoch 29/1000\n",
            "1118/1118 [==============================] - 3s 3ms/step - loss: 0.2744 - accuracy: 0.9122 - val_loss: 0.2767 - val_accuracy: 0.9116\n"
          ],
          "name": "stdout"
        }
      ]
    },
    {
      "cell_type": "code",
      "metadata": {
        "id": "Mw175XuqS9hW"
      },
      "source": [
        "loss = H.history['loss']\n",
        "val_loss = H.history['val_loss']\n",
        "val_acc = H.history['val_accuracy']\n",
        "acc = H.history['accuracy']"
      ],
      "execution_count": null,
      "outputs": []
    },
    {
      "cell_type": "code",
      "metadata": {
        "colab": {
          "base_uri": "https://localhost:8080/",
          "height": 282
        },
        "id": "eusjT2jERWSu",
        "outputId": "89d508ab-0cc3-49ef-b853-80f64fb2f3f1"
      },
      "source": [
        "plt.plot(loss,label='train_loss')\n",
        "plt.plot(val_loss,label='val_loss')\n",
        "plt.legend()"
      ],
      "execution_count": null,
      "outputs": [
        {
          "output_type": "execute_result",
          "data": {
            "text/plain": [
              "<matplotlib.legend.Legend at 0x7f3f70585190>"
            ]
          },
          "metadata": {
            "tags": []
          },
          "execution_count": 18
        },
        {
          "output_type": "display_data",
          "data": {
            "image/png": "[encoded data removed]",
            "text/plain": [
              "<Figure size 432x288 with 1 Axes>"
            ]
          },
          "metadata": {
            "tags": [],
            "needs_background": "light"
          }
        }
      ]
    },
    {
      "cell_type": "code",
      "metadata": {
        "colab": {
          "base_uri": "https://localhost:8080/",
          "height": 282
        },
        "id": "pHySxyWLRiyp",
        "outputId": "a27832b3-68e4-41df-acf6-65c6a4b0954b"
      },
      "source": [
        "plt.plot(val_acc,label='val_acc')\n",
        "plt.plot(acc,label='acc')\n",
        "plt.legend()"
      ],
      "execution_count": null,
      "outputs": [
        {
          "output_type": "execute_result",
          "data": {
            "text/plain": [
              "<matplotlib.legend.Legend at 0x7f3f70081b90>"
            ]
          },
          "metadata": {
            "tags": []
          },
          "execution_count": 19
        },
        {
          "output_type": "display_data",
          "data": {
            "image/png": "[encoded data removed]",
            "text/plain": [
              "<Figure size 432x288 with 1 Axes>"
            ]
          },
          "metadata": {
            "tags": [],
            "needs_background": "light"
          }
        }
      ]
    },
    {
      "cell_type": "code",
      "metadata": {
        "id": "oGDnKfr2Xxc5"
      },
      "source": [
        "model.save(\"model.h5\")"
      ],
      "execution_count": null,
      "outputs": []
    },
    {
      "cell_type": "code",
      "metadata": {
        "id": "vGtVlYKMfwBI"
      },
      "source": [
        "from keras.models import load_model\n",
        "model = load_model(\"model.h5\")"
      ],
      "execution_count": null,
      "outputs": []
    },
    {
      "cell_type": "code",
      "metadata": {
        "id": "3Z_n6M2xT11o"
      },
      "source": [
        "import numpy as np"
      ],
      "execution_count": null,
      "outputs": []
    },
    {
      "cell_type": "code",
      "metadata": {
        "id": "Ik9woeYiUvrW"
      },
      "source": [
        "def test(text):\n",
        "  \n",
        "  print(text)\n",
        "  text = tfidf_vect.transform([text])\n",
        "  text = svd.transform(text)\n",
        "  pred = model.predict(text)\n",
        "  label_index = np.argmax(np.squeeze(pred, axis = 0))\n",
        "  print(\"Label : ------ \")\n",
        "  print(encoder.inverse_transform([label_index])[0])"
      ],
      "execution_count": null,
      "outputs": []
    },
    {
      "cell_type": "code",
      "metadata": {
        "id": "0DFLRhuJgH8B"
      },
      "source": [
        "y_pred = model.predict(X_test_tfidf_svd)"
      ],
      "execution_count": null,
      "outputs": []
    },
    {
      "cell_type": "code",
      "metadata": {
        "id": "lG_aP7D2idoP"
      },
      "source": [
        "y_pred = [encoder.inverse_transform([np.argmax(pred)])[0] for pred in y_pred]"
      ],
      "execution_count": null,
      "outputs": []
    },
    {
      "cell_type": "code",
      "metadata": {
        "colab": {
          "base_uri": "https://localhost:8080/"
        },
        "id": "R_3PmLmHfJOP",
        "outputId": "a8d2006f-c074-406b-ee90-969bf49c66aa"
      },
      "source": [
        "from sklearn.metrics import classification_report\n",
        "print(classification_report(Y_test, y_pred))  "
      ],
      "execution_count": null,
      "outputs": [
        {
          "output_type": "stream",
          "text": [
            "                  precision    recall  f1-score   support\n",
            "\n",
            "Chinh_tri_Xa_hoi       0.88      0.84      0.86      1899\n",
            "        Doi_song       0.87      0.79      0.82       763\n",
            "        Khoa_hoc       0.78      0.84      0.81       618\n",
            "      Kinh_doanh       0.87      0.91      0.89      1151\n",
            "       Phap_luat       0.92      0.90      0.91      1144\n",
            "        Suc_khoe       0.92      0.93      0.93      1328\n",
            "        The_gioi       0.91      0.95      0.93      1413\n",
            "        The_thao       0.99      0.98      0.98      1772\n",
            "         Van_hoa       0.94      0.94      0.94      1456\n",
            "         Vi_tinh       0.93      0.95      0.94      1076\n",
            "\n",
            "        accuracy                           0.91     12620\n",
            "       macro avg       0.90      0.90      0.90     12620\n",
            "    weighted avg       0.91      0.91      0.91     12620\n",
            "\n"
          ],
          "name": "stdout"
        }
      ]
    },
    {
      "cell_type": "code",
      "metadata": {
        "colab": {
          "base_uri": "https://localhost:8080/"
        },
        "id": "Qx954aVjXlq1",
        "outputId": "fac451af-a25f-4296-b73e-7c8c65d95da7"
      },
      "source": [
        "x = input(\"Enter text:\")\n",
        "test(x)"
      ],
      "execution_count": null,
      "outputs": [
        {
          "output_type": "stream",
          "text": [
            "Enter text:cac\n",
            "cac\n",
            "Label : ------ \n",
            "Vi_tinh\n"
          ],
          "name": "stdout"
        }
      ]
    }
  ]
}